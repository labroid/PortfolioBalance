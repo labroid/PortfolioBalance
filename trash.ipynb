{
 "cells": [
  {
   "cell_type": "code",
   "execution_count": 1,
   "metadata": {
    "collapsed": true
   },
   "outputs": [],
   "source": [
    "import pandas as pd\n",
    "from txt_to_df import raw_schwab_to_df, raw_fidelity_to_df"
   ]
  },
  {
   "cell_type": "code",
   "execution_count": 2,
   "outputs": [],
   "source": [
    "SCHWAB = r\"C:\\Users\\Scott\\Documents\\Brokerage\\All-Accounts-Positions-2021-02-01-080525.CSV\"\n",
    "# FIDELITY = r\"C:\\Users\\Scott\\Documents\\Brokerage\\Portfolio_Position_Feb-01-2021.csv\"\n",
    "FIDELITY = r\"C:\\Users\\Scott\\Documents\\Brokerage\\Portfolio_Position_Jan-26-2021.csv\"\n",
    "CLASSIFICATIONS = r\"C:\\Users\\Scott\\Documents\\Brokerage\\Classifications.csv\"\n",
    "QUALIFIED = r\"C:\\Users\\Scott\\Documents\\Brokerage\\Qualified.csv\"\n",
    "\n",
    "schwab = raw_schwab_to_df(SCHWAB)\n",
    "fidelity = raw_fidelity_to_df(FIDELITY)\n",
    "classes = pd.read_csv(CLASSIFICATIONS)\n",
    "qualified = pd.read_csv(QUALIFIED)\n",
    "\n",
    "portfolio = pd.concat([schwab, fidelity])\n",
    "portfolio = portfolio.merge(classes, how='left', on='symbol')\n",
    "portfolio = portfolio.merge(qualified, how='left', on='account')"
   ],
   "metadata": {
    "collapsed": false,
    "pycharm": {
     "name": "#%%\n"
    }
   }
  },
  {
   "cell_type": "code",
   "execution_count": null,
   "outputs": [],
   "source": [
    "def select(p, kind, region):\n",
    "    return p.loc[(p.kind == kind) & (p.region == region)].value.sum()\n",
    "\n",
    "\n",
    "equity_domestic = select(portfolio, 'Equity', 'Domestic')\n",
    "equity_international = select(portfolio, \"Equity\", \"International\")\n",
    "bonds_domestic = select(portfolio, \"Bonds\", \"Domestic\")\n",
    "bonds_international = select(portfolio, \"Bonds\", \"International\")\n",
    "net_worth = portfolio.value.sum()\n",
    "\n",
    "equity_to_bond_target = .6\n",
    "domestic_to_international_target = 0.6\n",
    "real_estate_target = .3\n",
    "cash_target = .25\n",
    "\n",
    "\n",
    "\n",
    "st.title(\"Investments Distribution\")\n",
    "st.write(f\"Net worth: ${net_worth:,.2f}\")\n",
    "st.write(f\"Net worth w/o charity: Fix Me\")\n",
    "\n",
    "\n",
    "# pd.DataFrame(\n",
    "#     [portfolio[p.]]\n",
    "#\n",
    "# )\n",
    "\n",
    "\n"
   ],
   "metadata": {
    "collapsed": false,
    "pycharm": {
     "name": "#%%\n"
    }
   }
  }
 ],
 "metadata": {
  "kernelspec": {
   "display_name": "Python 3",
   "language": "python",
   "name": "python3"
  },
  "language_info": {
   "codemirror_mode": {
    "name": "ipython",
    "version": 2
   },
   "file_extension": ".py",
   "mimetype": "text/x-python",
   "name": "python",
   "nbconvert_exporter": "python",
   "pygments_lexer": "ipython2",
   "version": "2.7.6"
  }
 },
 "nbformat": 4,
 "nbformat_minor": 0
}